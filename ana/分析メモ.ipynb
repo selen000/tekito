{
 "cells": [
  {
   "cell_type": "markdown",
   "metadata": {},
   "source": [
    "# 色々なデータに触ってみる\n",
    "---"
   ]
  },
  {
   "cell_type": "markdown",
   "metadata": {},
   "source": [
    "- オープンソースなデータを利用することで、データの取り扱い・手法になれるためのお勉強用\n",
    "- 本ノートブックで扱ったデータと、手法についてまとめていく"
   ]
  },
  {
   "cell_type": "code",
   "execution_count": null,
   "metadata": {},
   "outputs": [],
   "source": []
  },
  {
   "cell_type": "markdown",
   "metadata": {},
   "source": [
    "## [駅データ.jp](http://www.ekidata.jp/)\n",
    "\n",
    "- 基本的に自由利用可能とのこと\n",
    "- こちらのデータをcsvに落とし込んで分析に利用予定\n",
    "- 駅の緯度・経度情報を取得するのに使える\n",
    "\n",
    "### データ構成\n",
    "\n",
    "|ファイル概要 |ファイル名             |\n",
    "|-------------|-----------------------|\n",
    "|事業者データ |company20200619.csv    |\n",
    "|路線データ   |line20210312free.csv   |\n",
    "|駅データ     |station20210312free.csv|\n",
    "|接続駅データ |join20210312.csv       |"
   ]
  },
  {
   "cell_type": "code",
   "execution_count": null,
   "metadata": {},
   "outputs": [],
   "source": []
  },
  {
   "cell_type": "code",
   "execution_count": null,
   "metadata": {},
   "outputs": [],
   "source": []
  }
 ],
 "metadata": {
  "kernelspec": {
   "display_name": "Python 3",
   "language": "python",
   "name": "python3"
  },
  "language_info": {
   "codemirror_mode": {
    "name": "ipython",
    "version": 3
   },
   "file_extension": ".py",
   "mimetype": "text/x-python",
   "name": "python",
   "nbconvert_exporter": "python",
   "pygments_lexer": "ipython3",
   "version": "3.7.4"
  }
 },
 "nbformat": 4,
 "nbformat_minor": 2
}
